{
  "nbformat": 4,
  "nbformat_minor": 0,
  "metadata": {
    "colab": {
      "provenance": [],
      "authorship_tag": "ABX9TyNdoD1cKp2sb47HXizd0rGv",
      "include_colab_link": true
    },
    "kernelspec": {
      "name": "python3",
      "display_name": "Python 3"
    },
    "language_info": {
      "name": "python"
    }
  },
  "cells": [
    {
      "cell_type": "markdown",
      "metadata": {
        "id": "view-in-github",
        "colab_type": "text"
      },
      "source": [
        "<a href=\"https://colab.research.google.com/github/brianbaert/Problem-Solving-DEMOS/blob/main/ProblemSolving_Lecture8_Demos.ipynb\" target=\"_parent\"><img src=\"https://colab.research.google.com/assets/colab-badge.svg\" alt=\"Open In Colab\"/></a>"
      ]
    },
    {
      "cell_type": "markdown",
      "source": [
        "#Lecture 8 - Modular arithmetic - DEMOS\n",
        "Brian Baert, 2022-2023, Howest"
      ],
      "metadata": {
        "id": "iLgtPIKuWG9a"
      }
    },
    {
      "cell_type": "code",
      "execution_count": 1,
      "metadata": {
        "id": "2V6QWB3OQE5n"
      },
      "outputs": [],
      "source": [
        "import math"
      ]
    },
    {
      "cell_type": "markdown",
      "source": [
        "We implement the gcd and extended Euclidean algorithm"
      ],
      "metadata": {
        "id": "JnoiAQ7wXuk9"
      }
    },
    {
      "cell_type": "code",
      "source": [
        "def gcd(a, b):\n",
        "  if (a==0):\n",
        "    return b\n",
        "    \n",
        "  return gcd(b % a, a)"
      ],
      "metadata": {
        "id": "m71Y3bvoTBp8"
      },
      "execution_count": 2,
      "outputs": []
    },
    {
      "cell_type": "code",
      "source": [
        "def extendedEuclidean(a, b):\n",
        "  if (a==0):\n",
        "    return b, 0, 1\n",
        "  \n",
        "  gcd, x1, y1 = extendedEuclidean(b % a, a)\n",
        "\n",
        "  x = y1 - (b//a) * x1\n",
        "  y = x1\n",
        "\n",
        "  return gcd, x, y"
      ],
      "metadata": {
        "id": "Dfpp4i0FQS4W"
      },
      "execution_count": 6,
      "outputs": []
    },
    {
      "cell_type": "code",
      "source": [
        "gcd(20,11)"
      ],
      "metadata": {
        "colab": {
          "base_uri": "https://localhost:8080/"
        },
        "id": "X87b1l-PTLEn",
        "outputId": "77da4369-94b0-4fd6-be30-eed733a49f03"
      },
      "execution_count": 4,
      "outputs": [
        {
          "output_type": "execute_result",
          "data": {
            "text/plain": [
              "1"
            ]
          },
          "metadata": {},
          "execution_count": 4
        }
      ]
    },
    {
      "cell_type": "code",
      "source": [
        "extendedEuclidean(40,3)"
      ],
      "metadata": {
        "colab": {
          "base_uri": "https://localhost:8080/"
        },
        "id": "4E0oBckwTM49",
        "outputId": "195791c2-fe24-4f81-fa4b-d5cd02c44833"
      },
      "execution_count": 8,
      "outputs": [
        {
          "output_type": "execute_result",
          "data": {
            "text/plain": [
              "(1, 1, -13)"
            ]
          },
          "metadata": {},
          "execution_count": 8
        }
      ]
    },
    {
      "cell_type": "markdown",
      "source": [
        "Finding the inverse element $a^{-1}$ in a remainder system $\\mathbb{Z}_{m}$"
      ],
      "metadata": {
        "id": "sYKRur99Xc-J"
      }
    },
    {
      "cell_type": "code",
      "source": [
        "def modularInverse(a, m):\n",
        "  gcd, x, y = extendedEuclidean(a, m)\n",
        "  if (gcd != 1):\n",
        "    return None\n",
        "  else:\n",
        "    return x % m"
      ],
      "metadata": {
        "id": "jYeROYxxTSN8"
      },
      "execution_count": 10,
      "outputs": []
    },
    {
      "cell_type": "markdown",
      "source": [
        "We implement the encryption formular $\\alpha x + \\beta \\equiv y$"
      ],
      "metadata": {
        "id": "ubkmHBkqUDae"
      }
    },
    {
      "cell_type": "code",
      "source": [
        "def affineCipherEncrypt(text, alpha, beta):\n",
        "  return ''.join([ chr((( alpha*(ord(t) - ord('A')) + beta ) % 26) + ord('A')) for t in text.upper().replace(' ', '') ])"
      ],
      "metadata": {
        "id": "Jh07dOVzT0CV"
      },
      "execution_count": 13,
      "outputs": []
    },
    {
      "cell_type": "code",
      "source": [
        "text = \"walhalla\"\n",
        "alpha = 7\n",
        "beta = 20\n",
        "enctext = affineCipherEncrypt(text, alpha, beta)\n",
        "print('Encrypted text: {}'.format(enctext))"
      ],
      "metadata": {
        "colab": {
          "base_uri": "https://localhost:8080/"
        },
        "id": "9XeIQXQVT4R6",
        "outputId": "4b8050ba-9a95-432b-ae87-a1a8c3318c68"
      },
      "execution_count": 16,
      "outputs": [
        {
          "output_type": "stream",
          "name": "stdout",
          "text": [
            "Encrypted text: SUTRUTTU\n"
          ]
        }
      ]
    },
    {
      "cell_type": "markdown",
      "source": [
        "We implement the decryption formula $\\alpha^{-1}(y-\\beta)\\equiv x$"
      ],
      "metadata": {
        "id": "cHYUMfyRVaRj"
      }
    },
    {
      "cell_type": "code",
      "source": [
        "def affineCipherDecrypt(enctext, alpha, beta):\n",
        "  return ''.join([ chr((( modularInverse(alpha, 26)*(ord(c) - ord('A') -beta)) % 26) + ord('A')) for c in enctext ]) "
      ],
      "metadata": {
        "id": "1P6ikdyAVHIE"
      },
      "execution_count": 19,
      "outputs": []
    },
    {
      "cell_type": "code",
      "source": [
        "print('Decrypted text: {}'.format(affineCipherDecrypt(enctext, alpha, beta)))"
      ],
      "metadata": {
        "colab": {
          "base_uri": "https://localhost:8080/"
        },
        "id": "mLf2G1nSV4sy",
        "outputId": "9f125f8f-e361-4c60-d96e-97156aad187c"
      },
      "execution_count": 20,
      "outputs": [
        {
          "output_type": "stream",
          "name": "stdout",
          "text": [
            "Decrypted text: WALHALLA\n"
          ]
        }
      ]
    },
    {
      "cell_type": "markdown",
      "source": [
        "We implement the Chinese Remainder theorem by using Gauss' implementation"
      ],
      "metadata": {
        "id": "beJFTuqGX9Qb"
      }
    },
    {
      "cell_type": "code",
      "source": [
        "def chineseRemainder(a_n, m_n):\n",
        "  #a_n is the array with a1, a2, ..., an\n",
        "  #m_n is the array with m1, m2, ..., m_n\n",
        "  result = 0\n",
        "  N=1\n",
        "  for i in range(len(m_n)):\n",
        "    N*=m_n[i]\n",
        "\n",
        "  for i in range(len(m_n)):\n",
        "    ai = a_n[i]\n",
        "    mi = m_n[i]\n",
        "    pi = N // mi\n",
        "\n",
        "    result += ai * pi * modularInverse(pi, mi)\n",
        "\n",
        "  return result % N"
      ],
      "metadata": {
        "id": "hGtSrg3TX8y1"
      },
      "execution_count": 41,
      "outputs": []
    },
    {
      "cell_type": "code",
      "source": [
        "chineseRemainder([2,10,3,4],[3,11,7,8])"
      ],
      "metadata": {
        "colab": {
          "base_uri": "https://localhost:8080/"
        },
        "id": "2InPCYjzWAde",
        "outputId": "24786ab9-e9db-4bc5-e494-5897c652e572"
      },
      "execution_count": 42,
      "outputs": [
        {
          "output_type": "execute_result",
          "data": {
            "text/plain": [
              "164"
            ]
          },
          "metadata": {},
          "execution_count": 42
        }
      ]
    },
    {
      "cell_type": "markdown",
      "source": [
        "Finding the number of solutions to a modular linear equation $ax+b\\equiv 0\\mod m$ is the same as finding the greatest common divisor $d$\n",
        "The above implementation of extended euclidean returns $d$, $s$ and $t$ in that order.\n",
        "\n"
      ],
      "metadata": {
        "id": "Ti37M1-udhuT"
      }
    },
    {
      "cell_type": "code",
      "source": [
        "a = 9\n",
        "m = 26\n",
        "b = 2\n",
        "d, s, t = extendedEuclidean(a,m)"
      ],
      "metadata": {
        "id": "wu3aCNUEb7o0"
      },
      "execution_count": 54,
      "outputs": []
    },
    {
      "cell_type": "code",
      "source": [
        "print(\"The number of solutions to the equation is: \",d)"
      ],
      "metadata": {
        "colab": {
          "base_uri": "https://localhost:8080/"
        },
        "id": "6i2nKTr-eJFW",
        "outputId": "ffb82a06-15be-49ba-a488-284124cdc922"
      },
      "execution_count": 55,
      "outputs": [
        {
          "output_type": "stream",
          "name": "stdout",
          "text": [
            "The number of solutions to the equation is:  1\n"
          ]
        }
      ]
    },
    {
      "cell_type": "markdown",
      "source": [
        "The first solution $x_{0}$ can be found by $$\\frac{-b.s}{d} \\mod m$$"
      ],
      "metadata": {
        "id": "M9wDZOdYfTol"
      }
    },
    {
      "cell_type": "code",
      "source": [
        "x0 = ((-b*s)/d) % m"
      ],
      "metadata": {
        "id": "F3bBbGjQesAH"
      },
      "execution_count": 56,
      "outputs": []
    },
    {
      "cell_type": "code",
      "source": [
        "print(\"The first solution x0 is:\", x0)"
      ],
      "metadata": {
        "colab": {
          "base_uri": "https://localhost:8080/"
        },
        "id": "Ag4xAhWueKmP",
        "outputId": "10b08e16-b32a-45fd-9c74-51dea685d215"
      },
      "execution_count": 57,
      "outputs": [
        {
          "output_type": "stream",
          "name": "stdout",
          "text": [
            "The first solution x0 is: 20.0\n"
          ]
        }
      ]
    },
    {
      "cell_type": "code",
      "source": [],
      "metadata": {
        "id": "xeWXTB_terEO"
      },
      "execution_count": null,
      "outputs": []
    }
  ]
}
